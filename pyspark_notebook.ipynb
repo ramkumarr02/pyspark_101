{
 "cells": [
  {
   "cell_type": "markdown",
   "id": "ecaded0b-3ba9-4986-82ed-d83ba4dff7eb",
   "metadata": {},
   "source": [
    "# PySpark 101 "
   ]
  },
  {
   "cell_type": "code",
   "execution_count": 1,
   "id": "d7878abe-c13b-440d-aec9-214ddaa6cdce",
   "metadata": {},
   "outputs": [
    {
     "name": "stderr",
     "output_type": "stream",
     "text": [
      "C:\\Users\\Ram\\AppData\\Local\\Temp\\ipykernel_7176\\3286340342.py:2: DeprecationWarning: \n",
      "Pyarrow will become a required dependency of pandas in the next major release of pandas (pandas 3.0),\n",
      "(to allow more performant data types, such as the Arrow string type, and better interoperability with other libraries)\n",
      "but was not found to be installed on your system.\n",
      "If this would cause problems for you,\n",
      "please provide us feedback at https://github.com/pandas-dev/pandas/issues/54466\n",
      "        \n",
      "  import pandas as pd\n"
     ]
    }
   ],
   "source": [
    "import numpy as np\n",
    "import pandas as pd\n",
    "\n",
    "import warnings\n",
    "warnings.filterwarnings(\"ignore\")"
   ]
  },
  {
   "cell_type": "code",
   "execution_count": 6,
   "id": "9cf7ca1b-39ef-428a-b709-7bd6f87a1172",
   "metadata": {},
   "outputs": [
    {
     "data": {
      "text/html": [
       "<style>:root { --jp-notebook-max-width: 95% !important; }</style>"
      ],
      "text/plain": [
       "<IPython.core.display.HTML object>"
      ]
     },
     "metadata": {},
     "output_type": "display_data"
    }
   ],
   "source": [
    "from IPython.display import display, HTML\n",
    "display(HTML(\"<style>:root { --jp-notebook-max-width: 95% !important; }</style>\"))"
   ]
  },
  {
   "cell_type": "markdown",
   "id": "ca739478-746f-40ed-8a91-db899ca7e83d",
   "metadata": {},
   "source": [
    "## Spark Packages"
   ]
  },
  {
   "cell_type": "code",
   "execution_count": 7,
   "id": "45622fcb-c2ac-4619-b313-97c00ca1fa73",
   "metadata": {},
   "outputs": [],
   "source": [
    "from pyspark.sql import SparkSession"
   ]
  },
  {
   "cell_type": "markdown",
   "id": "454fa6e1-24a2-4392-87ac-59f270b1def3",
   "metadata": {},
   "source": [
    "## Create Spark Session : which establishes a connection to the spark core"
   ]
  },
  {
   "cell_type": "code",
   "execution_count": 9,
   "id": "ecad10be-8931-4353-a57d-b9ed5091cd0b",
   "metadata": {},
   "outputs": [],
   "source": [
    "spark = SparkSession.builder.getOrCreate()"
   ]
  },
  {
   "cell_type": "markdown",
   "id": "0183e791-8406-4fcd-8958-509350492b68",
   "metadata": {},
   "source": [
    "## Read input csv file"
   ]
  },
  {
   "cell_type": "code",
   "execution_count": 8,
   "id": "4e3d80e2-0f26-4461-a7db-e4eb13415e13",
   "metadata": {},
   "outputs": [
    {
     "data": {
      "text/html": [
       "<div>\n",
       "<style scoped>\n",
       "    .dataframe tbody tr th:only-of-type {\n",
       "        vertical-align: middle;\n",
       "    }\n",
       "\n",
       "    .dataframe tbody tr th {\n",
       "        vertical-align: top;\n",
       "    }\n",
       "\n",
       "    .dataframe thead th {\n",
       "        text-align: right;\n",
       "    }\n",
       "</style>\n",
       "<table border=\"1\" class=\"dataframe\">\n",
       "  <thead>\n",
       "    <tr style=\"text-align: right;\">\n",
       "      <th></th>\n",
       "      <th>School Id</th>\n",
       "      <th>Org Name</th>\n",
       "      <th>Telephone</th>\n",
       "      <th>Fax</th>\n",
       "      <th>Email^</th>\n",
       "      <th>Principal*</th>\n",
       "      <th>URL</th>\n",
       "      <th>Physical Address Line1</th>\n",
       "      <th>Physical Address Suburb</th>\n",
       "      <th>Physical Address City</th>\n",
       "      <th>...</th>\n",
       "      <th>Isolation Index</th>\n",
       "      <th>Decile</th>\n",
       "      <th>Total</th>\n",
       "      <th>European</th>\n",
       "      <th>M?ori</th>\n",
       "      <th>Pacific</th>\n",
       "      <th>Asian</th>\n",
       "      <th>MELAA</th>\n",
       "      <th>Other</th>\n",
       "      <th>International</th>\n",
       "    </tr>\n",
       "  </thead>\n",
       "  <tbody>\n",
       "    <tr>\n",
       "      <th>0</th>\n",
       "      <td>1</td>\n",
       "      <td>Te Kura o Te Kao</td>\n",
       "      <td>09 409 7813</td>\n",
       "      <td>NaN</td>\n",
       "      <td>office@tekao.school.nz</td>\n",
       "      <td>Ng?waiata Evans (Acting)</td>\n",
       "      <td>http://www.tekuraotekao.school.nz</td>\n",
       "      <td>6603 Far North Road</td>\n",
       "      <td>NaN</td>\n",
       "      <td>Te Kao</td>\n",
       "      <td>...</td>\n",
       "      <td>4.18</td>\n",
       "      <td>2.0</td>\n",
       "      <td>36</td>\n",
       "      <td>0</td>\n",
       "      <td>36</td>\n",
       "      <td>0</td>\n",
       "      <td>0</td>\n",
       "      <td>0</td>\n",
       "      <td>0</td>\n",
       "      <td>0</td>\n",
       "    </tr>\n",
       "    <tr>\n",
       "      <th>1</th>\n",
       "      <td>2</td>\n",
       "      <td>Taipa Area School</td>\n",
       "      <td>09 406 0159</td>\n",
       "      <td>09 406 1096</td>\n",
       "      <td>office@taipa.school.nz</td>\n",
       "      <td>Doreen Bailey</td>\n",
       "      <td>http://www.taipa.school.nz</td>\n",
       "      <td>578 State Highway 10</td>\n",
       "      <td>NaN</td>\n",
       "      <td>Taipa</td>\n",
       "      <td>...</td>\n",
       "      <td>2.88</td>\n",
       "      <td>2.0</td>\n",
       "      <td>300</td>\n",
       "      <td>34</td>\n",
       "      <td>246</td>\n",
       "      <td>11</td>\n",
       "      <td>8</td>\n",
       "      <td>0</td>\n",
       "      <td>1</td>\n",
       "      <td>0</td>\n",
       "    </tr>\n",
       "  </tbody>\n",
       "</table>\n",
       "<p>2 rows × 42 columns</p>\n",
       "</div>"
      ],
      "text/plain": [
       "   School Id           Org Name    Telephone          Fax  \\\n",
       "0          1   Te Kura o Te Kao  09 409 7813          NaN   \n",
       "1          2  Taipa Area School  09 406 0159  09 406 1096   \n",
       "\n",
       "                   Email^                Principal*  \\\n",
       "0  office@tekao.school.nz  Ng?waiata Evans (Acting)   \n",
       "1  office@taipa.school.nz             Doreen Bailey   \n",
       "\n",
       "                                 URL Physical Address Line1  \\\n",
       "0  http://www.tekuraotekao.school.nz    6603 Far North Road   \n",
       "1         http://www.taipa.school.nz   578 State Highway 10   \n",
       "\n",
       "  Physical Address Suburb Physical Address City  ... Isolation Index Decile  \\\n",
       "0                     NaN                Te Kao  ...            4.18    2.0   \n",
       "1                     NaN                 Taipa  ...            2.88    2.0   \n",
       "\n",
       "  Total European M?ori Pacific Asian MELAA Other International  \n",
       "0    36        0    36       0     0     0     0             0  \n",
       "1   300       34   246      11     8     0     1             0  \n",
       "\n",
       "[2 rows x 42 columns]"
      ]
     },
     "execution_count": 8,
     "metadata": {},
     "output_type": "execute_result"
    }
   ],
   "source": [
    "df = pd.read_csv('data/input/school-decile.csv', encoding='cp1252')\n",
    "df.head(2)"
   ]
  },
  {
   "cell_type": "code",
   "execution_count": 10,
   "id": "3762fa69-8fc9-413d-85b4-fc789bdfccf4",
   "metadata": {},
   "outputs": [],
   "source": [
    "spark_df = spark.read.csv(path = 'data/input/school-decile.csv', header = True, encoding='cp1252')"
   ]
  },
  {
   "cell_type": "code",
   "execution_count": 11,
   "id": "2bec37c8-f484-4b32-a9fe-90be90d85f3e",
   "metadata": {
    "scrolled": true
   },
   "outputs": [
    {
     "name": "stdout",
     "output_type": "stream",
     "text": [
      "+---------+-----------------+-----------+-----------+--------------------+--------------------+--------------------+----------------------+-----------------------+---------------------+--------------------+---------------------+-------------------+--------------------------+----------------+---------+--------------------+---------+--------------------+--------------+---------------------+----------------+-----------------+----------------+------------------+----------------+------------------+------------+------+--------------------+----------+----------+---------------+------+-----+--------+-----+-------+-----+-----+-----+-------------+\n",
      "|School Id|         Org Name|  Telephone|        Fax|              Email^|          Principal*|                 URL|Physical Address Line1|Physical Address Suburb|Physical Address City|Postal Address Line1|Postal Address Suburb|Postal Address City|Postal Address Postal Code|      Urban Area| Org Type|          Definition|Authority|    School Donations|   CoEd Status|Territorial Authority|Regional Council|Local Office Name|Education Region|General Electorate|M?ori Electorate|         Area Unit|        Ward|Col Id|            Col Name|  Latitude| Longitude|Isolation Index|Decile|Total|European|M?ori|Pacific|Asian|MELAA|Other|International|\n",
      "+---------+-----------------+-----------+-----------+--------------------+--------------------+--------------------+----------------------+-----------------------+---------------------+--------------------+---------------------+-------------------+--------------------------+----------------+---------+--------------------+---------+--------------------+--------------+---------------------+----------------+-----------------+----------------+------------------+----------------+------------------+------------+------+--------------------+----------+----------+---------------+------+-----+--------+-----+-------+-----+-----+-----+-------------+\n",
      "|        1| Te Kura o Te Kao|09 409 7813|       NULL|office@tekao.scho...|Ng?waiata Evans (...|http://www.tekura...|   6603 Far North Road|                   NULL|               Te Kao|6603 Far North Ro...|                 NULL|            Kaitaia|                       484|      Rural Area|Composite|Designated Charac...|    State|Donations should ...|Co-Educational|   Far North District|Northland Region|        Whangarei|     Tai Tokerau|         Northland|  Te Tai Tokerau|        North Cape|Te Hiku Ward|  NULL|                NULL|-34.654704|172.965949|           4.18|     2|   36|       0|   36|      0|    0|    0|    0|            0|\n",
      "|        2|Taipa Area School|09 406 0159|09 406 1096|office@taipa.scho...|       Doreen Bailey|http://www.taipa....|  578 State Highway 10|                   NULL|                Taipa|578 State Highway 10|                 NULL|              Taipa|                       420|Minor Urban Area|Composite|      Not Applicable|    State|Donations should ...|Co-Educational|   Far North District|Northland Region|        Whangarei|     Tai Tokerau|         Northland|  Te Tai Tokerau|Taipa Bay-Mangonui|Te Hiku Ward| 99051|Te K?hui Tai Kura...|-34.994702|173.464303|           2.88|     2|  300|      34|  246|     11|    8|    0|    1|            0|\n",
      "+---------+-----------------+-----------+-----------+--------------------+--------------------+--------------------+----------------------+-----------------------+---------------------+--------------------+---------------------+-------------------+--------------------------+----------------+---------+--------------------+---------+--------------------+--------------+---------------------+----------------+-----------------+----------------+------------------+----------------+------------------+------------+------+--------------------+----------+----------+---------------+------+-----+--------+-----+-------+-----+-----+-----+-------------+\n",
      "only showing top 2 rows\n",
      "\n"
     ]
    }
   ],
   "source": [
    "spark_df.show(2)"
   ]
  },
  {
   "cell_type": "code",
   "execution_count": 16,
   "id": "7d3a8252-b0e0-4d1f-8495-e44cd6d477ca",
   "metadata": {},
   "outputs": [
    {
     "name": "stdout",
     "output_type": "stream",
     "text": [
      "+---------+-----------------+\n",
      "|School Id|         Org Name|\n",
      "+---------+-----------------+\n",
      "|        1| Te Kura o Te Kao|\n",
      "|        2|Taipa Area School|\n",
      "+---------+-----------------+\n",
      "only showing top 2 rows\n",
      "\n"
     ]
    }
   ],
   "source": [
    "spark_df['School Id','Org Name'].show(2)"
   ]
  },
  {
   "cell_type": "code",
   "execution_count": 12,
   "id": "300f40d4-849e-4de3-b691-ba08efe5d017",
   "metadata": {},
   "outputs": [
    {
     "data": {
      "text/plain": [
       "pyspark.sql.dataframe.DataFrame"
      ]
     },
     "execution_count": 12,
     "metadata": {},
     "output_type": "execute_result"
    }
   ],
   "source": [
    "type(spark_df)"
   ]
  },
  {
   "cell_type": "markdown",
   "id": "eb50ec76-ec08-4244-a8e1-d2e009913e88",
   "metadata": {},
   "source": [
    "## Create a view of the dataframe : Can sql query from the view"
   ]
  },
  {
   "cell_type": "code",
   "execution_count": 17,
   "id": "4701af79-5cc7-481f-8873-ba1500891596",
   "metadata": {},
   "outputs": [],
   "source": [
    "spark_df.createOrReplaceTempView('spark_df_view')"
   ]
  },
  {
   "cell_type": "code",
   "execution_count": 18,
   "id": "86c3c6df-b844-40a1-87bd-1beb1e1352fb",
   "metadata": {},
   "outputs": [],
   "source": [
    "select_query = 'select * from spark_df_view limit 2'"
   ]
  },
  {
   "cell_type": "code",
   "execution_count": 21,
   "id": "926093f9-bfc8-4f80-af06-1c082ba6d120",
   "metadata": {},
   "outputs": [],
   "source": [
    "query_result = spark.sql(select_query)"
   ]
  },
  {
   "cell_type": "code",
   "execution_count": 22,
   "id": "402054dc-d62e-4fa4-9c40-963e97b20196",
   "metadata": {
    "scrolled": true
   },
   "outputs": [
    {
     "name": "stdout",
     "output_type": "stream",
     "text": [
      "+---------+-----------------+-----------+-----------+--------------------+--------------------+--------------------+----------------------+-----------------------+---------------------+--------------------+---------------------+-------------------+--------------------------+----------------+---------+--------------------+---------+--------------------+--------------+---------------------+----------------+-----------------+----------------+------------------+----------------+------------------+------------+------+--------------------+----------+----------+---------------+------+-----+--------+-----+-------+-----+-----+-----+-------------+\n",
      "|School Id|         Org Name|  Telephone|        Fax|              Email^|          Principal*|                 URL|Physical Address Line1|Physical Address Suburb|Physical Address City|Postal Address Line1|Postal Address Suburb|Postal Address City|Postal Address Postal Code|      Urban Area| Org Type|          Definition|Authority|    School Donations|   CoEd Status|Territorial Authority|Regional Council|Local Office Name|Education Region|General Electorate|M?ori Electorate|         Area Unit|        Ward|Col Id|            Col Name|  Latitude| Longitude|Isolation Index|Decile|Total|European|M?ori|Pacific|Asian|MELAA|Other|International|\n",
      "+---------+-----------------+-----------+-----------+--------------------+--------------------+--------------------+----------------------+-----------------------+---------------------+--------------------+---------------------+-------------------+--------------------------+----------------+---------+--------------------+---------+--------------------+--------------+---------------------+----------------+-----------------+----------------+------------------+----------------+------------------+------------+------+--------------------+----------+----------+---------------+------+-----+--------+-----+-------+-----+-----+-----+-------------+\n",
      "|        1| Te Kura o Te Kao|09 409 7813|       NULL|office@tekao.scho...|Ng?waiata Evans (...|http://www.tekura...|   6603 Far North Road|                   NULL|               Te Kao|6603 Far North Ro...|                 NULL|            Kaitaia|                       484|      Rural Area|Composite|Designated Charac...|    State|Donations should ...|Co-Educational|   Far North District|Northland Region|        Whangarei|     Tai Tokerau|         Northland|  Te Tai Tokerau|        North Cape|Te Hiku Ward|  NULL|                NULL|-34.654704|172.965949|           4.18|     2|   36|       0|   36|      0|    0|    0|    0|            0|\n",
      "|        2|Taipa Area School|09 406 0159|09 406 1096|office@taipa.scho...|       Doreen Bailey|http://www.taipa....|  578 State Highway 10|                   NULL|                Taipa|578 State Highway 10|                 NULL|              Taipa|                       420|Minor Urban Area|Composite|      Not Applicable|    State|Donations should ...|Co-Educational|   Far North District|Northland Region|        Whangarei|     Tai Tokerau|         Northland|  Te Tai Tokerau|Taipa Bay-Mangonui|Te Hiku Ward| 99051|Te K?hui Tai Kura...|-34.994702|173.464303|           2.88|     2|  300|      34|  246|     11|    8|    0|    1|            0|\n",
      "+---------+-----------------+-----------+-----------+--------------------+--------------------+--------------------+----------------------+-----------------------+---------------------+--------------------+---------------------+-------------------+--------------------------+----------------+---------+--------------------+---------+--------------------+--------------+---------------------+----------------+-----------------+----------------+------------------+----------------+------------------+------------+------+--------------------+----------+----------+---------------+------+-----+--------+-----+-------+-----+-----+-----+-------------+\n",
      "\n"
     ]
    }
   ],
   "source": [
    "query_result.show()"
   ]
  },
  {
   "cell_type": "code",
   "execution_count": 27,
   "id": "73afcd9b-f349-4d83-8270-5462888fa1d6",
   "metadata": {},
   "outputs": [
    {
     "name": "stdout",
     "output_type": "stream",
     "text": [
      "+---------+-----------------+\n",
      "|School Id|         Org Name|\n",
      "+---------+-----------------+\n",
      "|        1| Te Kura o Te Kao|\n",
      "|        2|Taipa Area School|\n",
      "+---------+-----------------+\n",
      "\n"
     ]
    }
   ],
   "source": [
    "query_result['School Id','Org Name'].show()"
   ]
  },
  {
   "cell_type": "markdown",
   "id": "16ec61ed-468e-4439-8267-e3e593a5c650",
   "metadata": {},
   "source": [
    "## Row Filter dataframe"
   ]
  },
  {
   "cell_type": "code",
   "execution_count": 24,
   "id": "264a5c8d-1dbf-45ba-869f-a20e4a4d1ebd",
   "metadata": {
    "scrolled": true
   },
   "outputs": [
    {
     "name": "stdout",
     "output_type": "stream",
     "text": [
      "+---------+--------------------+-----------+-----------+--------------------+----------------+--------------------+----------------------+-----------------------+---------------------+--------------------+---------------------+-------------------+--------------------------+----------------+--------------------+--------------+---------+--------------------+--------------+---------------------+----------------+-----------------+----------------+------------------+----------------+------------------+--------------------+------+--------------------+----------+---------+---------------+------+-----+--------+-----+-------+-----+-----+-----+-------------+\n",
      "|School Id|            Org Name|  Telephone|        Fax|              Email^|      Principal*|                 URL|Physical Address Line1|Physical Address Suburb|Physical Address City|Postal Address Line1|Postal Address Suburb|Postal Address City|Postal Address Postal Code|      Urban Area|            Org Type|    Definition|Authority|    School Donations|   CoEd Status|Territorial Authority|Regional Council|Local Office Name|Education Region|General Electorate|M?ori Electorate|         Area Unit|                Ward|Col Id|            Col Name|  Latitude|Longitude|Isolation Index|Decile|Total|European|M?ori|Pacific|Asian|MELAA|Other|International|\n",
      "+---------+--------------------+-----------+-----------+--------------------+----------------+--------------------+----------------------+-----------------------+---------------------+--------------------+---------------------+-------------------+--------------------------+----------------+--------------------+--------------+---------+--------------------+--------------+---------------------+----------------+-----------------+----------------+------------------+----------------+------------------+--------------------+------+--------------------+----------+---------+---------------+------+-----+--------+-----+-------+-----+-----+-----+-------------+\n",
      "|        5|Kerikeri High School|09 407 8916|09 407 9323|enquiries@keriker...|Elizabeth Forgie|http://www.kerike...|     48 Hone Heke Road|                   NULL|             Kerikeri|          P O Box 92|                 NULL|           Kerikeri|                       245|Minor Urban Area|Secondary (Year 7...|Not Applicable|    State|Donations should ...|Co-Educational|   Far North District|Northland Region|        Whangarei|     Tai Tokerau|         Northland|  Te Tai Tokerau|          Kerikeri|Bay of Islands-Wh...|  NULL|                NULL|-35.228346|173.95539|           2.41|     6| 1554|     922|  468|     27|   44|   24|   10|           59|\n",
      "|       12|Tauraroa Area School|09 432 2643|09 432 2436|general@tauraroa....|     Grant Burns|http://www.taurar...|     398 Tauraroa Road|                   NULL|        Maungakaramea|          P O Box 36|                 NULL|      Maungakaramea|                       146|      Rural Area|           Composite|Not Applicable|    State|Donations should ...|Co-Educational|   Whangarei District|Northland Region|        Whangarei|     Tai Tokerau|         Whangarei|  Te Tai Tokerau|Wharekohe-Oakleigh|      Bream Bay Ward| 99183|Ng? Kura mo te ak...|-35.873061|174.21817|           0.98|     6|  502|     349|  126|      1|    8|    3|    7|            8|\n",
      "+---------+--------------------+-----------+-----------+--------------------+----------------+--------------------+----------------------+-----------------------+---------------------+--------------------+---------------------+-------------------+--------------------------+----------------+--------------------+--------------+---------+--------------------+--------------+---------------------+----------------+-----------------+----------------+------------------+----------------+------------------+--------------------+------+--------------------+----------+---------+---------------+------+-----+--------+-----+-------+-----+-----+-----+-------------+\n",
      "only showing top 2 rows\n",
      "\n"
     ]
    }
   ],
   "source": [
    "spark_df.filter(spark_df.Decile >  4).show(2)"
   ]
  },
  {
   "cell_type": "markdown",
   "id": "db4ad6b7-700a-495e-9582-f93500233724",
   "metadata": {},
   "source": [
    "## Column Filter Dataframe "
   ]
  },
  {
   "cell_type": "code",
   "execution_count": 26,
   "id": "06461d59-93c8-4922-87a4-7e5b3a746064",
   "metadata": {
    "scrolled": true
   },
   "outputs": [
    {
     "name": "stdout",
     "output_type": "stream",
     "text": [
      "+-----------+\n",
      "|  Telephone|\n",
      "+-----------+\n",
      "|09 409 7813|\n",
      "|09 406 0159|\n",
      "|09 408 0190|\n",
      "|09 405 0199|\n",
      "+-----------+\n",
      "only showing top 4 rows\n",
      "\n"
     ]
    }
   ],
   "source": [
    "spark_df.select(['Telephone']).show(4)"
   ]
  },
  {
   "cell_type": "markdown",
   "id": "64655183-7c6c-478e-be71-b3fa41c7e61c",
   "metadata": {},
   "source": [
    "## Mutliple parameterised filter"
   ]
  },
  {
   "cell_type": "code",
   "execution_count": 31,
   "id": "24544769-9cdf-4c1a-ac7f-feb84570616e",
   "metadata": {},
   "outputs": [],
   "source": [
    "isolation_filter = spark_df['Isolation Index'] > 2\n",
    "decile_filter = spark_df['Decile'] > 1"
   ]
  },
  {
   "cell_type": "code",
   "execution_count": 32,
   "id": "a91800be-e85c-43e3-8515-87f3b1c91e8c",
   "metadata": {},
   "outputs": [
    {
     "data": {
      "text/plain": [
       "2556"
      ]
     },
     "execution_count": 32,
     "metadata": {},
     "output_type": "execute_result"
    }
   ],
   "source": [
    "spark_df.count()"
   ]
  },
  {
   "cell_type": "code",
   "execution_count": 34,
   "id": "16714d5d-ba23-4152-a9d7-f728edb3a1c5",
   "metadata": {},
   "outputs": [],
   "source": [
    "filtered_spark_df = spark_df.filter(isolation_filter).filter(decile_filter)"
   ]
  },
  {
   "cell_type": "code",
   "execution_count": 35,
   "id": "8e5e1f41-6dc0-4093-af08-c74cedf705b7",
   "metadata": {},
   "outputs": [
    {
     "data": {
      "text/plain": [
       "98"
      ]
     },
     "execution_count": 35,
     "metadata": {},
     "output_type": "execute_result"
    }
   ],
   "source": [
    "filtered_spark_df.count()"
   ]
  },
  {
   "cell_type": "code",
   "execution_count": 36,
   "id": "87afcd45-b2e9-4277-89e3-bacd51a57fe4",
   "metadata": {
    "scrolled": true
   },
   "outputs": [
    {
     "name": "stdout",
     "output_type": "stream",
     "text": [
      "+---------+--------------------+-----------+-----------+--------------------+--------------------+--------------------+----------------------+-----------------------+---------------------+--------------------+---------------------+-------------------+--------------------------+----------+---------+--------------------+---------+--------------------+--------------+---------------------+----------------+-----------------+--------------------+------------------+----------------+----------+---------------+------+------------------+----------+----------+---------------+------+-----+--------+-----+-------+-----+-----+-----+-------------+\n",
      "|School Id|            Org Name|  Telephone|        Fax|              Email^|          Principal*|                 URL|Physical Address Line1|Physical Address Suburb|Physical Address City|Postal Address Line1|Postal Address Suburb|Postal Address City|Postal Address Postal Code|Urban Area| Org Type|          Definition|Authority|    School Donations|   CoEd Status|Territorial Authority|Regional Council|Local Office Name|    Education Region|General Electorate|M?ori Electorate| Area Unit|           Ward|Col Id|          Col Name|  Latitude| Longitude|Isolation Index|Decile|Total|European|M?ori|Pacific|Asian|MELAA|Other|International|\n",
      "+---------+--------------------+-----------+-----------+--------------------+--------------------+--------------------+----------------------+-----------------------+---------------------+--------------------+---------------------+-------------------+--------------------------+----------+---------+--------------------+---------+--------------------+--------------+---------------------+----------------+-----------------+--------------------+------------------+----------------+----------+---------------+------+------------------+----------+----------+---------------+------+-----+--------+-----+-------+-----+-----+-----+-------------+\n",
      "|        1|    Te Kura o Te Kao|09 409 7813|       NULL|office@tekao.scho...|Ng?waiata Evans (...|http://www.tekura...|   6603 Far North Road|                   NULL|               Te Kao|6603 Far North Ro...|                 NULL|            Kaitaia|                       484|Rural Area|Composite|Designated Charac...|    State|Donations should ...|Co-Educational|   Far North District|Northland Region|        Whangarei|         Tai Tokerau|         Northland|  Te Tai Tokerau|North Cape|   Te Hiku Ward|  NULL|              NULL|-34.654704|172.965949|           4.18|     2|   36|       0|   36|      0|    0|    0|    0|            0|\n",
      "|      290|Collingwood Area ...|03 524 8125|03 524 8124|admin@collingwood...|          Hugh Gully|http://www.collin...|          Lewis Street|                   NULL|          Collingwood|   Lewis Street RD 1|                 NULL|        Collingwood|                      7073|Rural Area|Composite|      Not Applicable|    State|Donations should ...|Co-Educational|      Tasman District|   Tasman Region|           Nelson|Nelson/Marlboroug...| West Coast-Tasman|    Te Tai Tonga|Golden Bay|Golden Bay Ward| 99054|K?hui Ako ki Mohua|-40.682207|172.680023|           3.97|     7|  160|     135|   13|      2|    7|    0|    2|            1|\n",
      "+---------+--------------------+-----------+-----------+--------------------+--------------------+--------------------+----------------------+-----------------------+---------------------+--------------------+---------------------+-------------------+--------------------------+----------+---------+--------------------+---------+--------------------+--------------+---------------------+----------------+-----------------+--------------------+------------------+----------------+----------+---------------+------+------------------+----------+----------+---------------+------+-----+--------+-----+-------+-----+-----+-----+-------------+\n",
      "only showing top 2 rows\n",
      "\n"
     ]
    }
   ],
   "source": [
    "filtered_spark_df.show(2)"
   ]
  },
  {
   "cell_type": "markdown",
   "id": "1bd59ce2-5be3-4262-bae6-34c9fc75ee4f",
   "metadata": {},
   "source": [
    "## Schema of spark dataframe"
   ]
  },
  {
   "cell_type": "code",
   "execution_count": 39,
   "id": "f4cfe3d8-8687-49f2-8687-afc68831039a",
   "metadata": {
    "scrolled": true
   },
   "outputs": [
    {
     "name": "stdout",
     "output_type": "stream",
     "text": [
      "root\n",
      " |-- School Id: string (nullable = true)\n",
      " |-- Org Name: string (nullable = true)\n",
      " |-- Telephone: string (nullable = true)\n",
      " |-- Fax: string (nullable = true)\n",
      " |-- Email^: string (nullable = true)\n",
      " |-- Principal*: string (nullable = true)\n",
      " |-- URL: string (nullable = true)\n",
      " |-- Physical Address Line1: string (nullable = true)\n",
      " |-- Physical Address Suburb: string (nullable = true)\n",
      " |-- Physical Address City: string (nullable = true)\n",
      " |-- Postal Address Line1: string (nullable = true)\n",
      " |-- Postal Address Suburb: string (nullable = true)\n",
      " |-- Postal Address City: string (nullable = true)\n",
      " |-- Postal Address Postal Code: string (nullable = true)\n",
      " |-- Urban Area: string (nullable = true)\n",
      " |-- Org Type: string (nullable = true)\n",
      " |-- Definition: string (nullable = true)\n",
      " |-- Authority: string (nullable = true)\n",
      " |-- School Donations: string (nullable = true)\n",
      " |-- CoEd Status: string (nullable = true)\n",
      " |-- Territorial Authority: string (nullable = true)\n",
      " |-- Regional Council: string (nullable = true)\n",
      " |-- Local Office Name: string (nullable = true)\n",
      " |-- Education Region: string (nullable = true)\n",
      " |-- General Electorate: string (nullable = true)\n",
      " |-- M?ori Electorate: string (nullable = true)\n",
      " |-- Area Unit: string (nullable = true)\n",
      " |-- Ward: string (nullable = true)\n",
      " |-- Col Id: string (nullable = true)\n",
      " |-- Col Name: string (nullable = true)\n",
      " |-- Latitude: string (nullable = true)\n",
      " |-- Longitude: string (nullable = true)\n",
      " |-- Isolation Index: string (nullable = true)\n",
      " |-- Decile: string (nullable = true)\n",
      " |-- Total: string (nullable = true)\n",
      " |-- European: string (nullable = true)\n",
      " |-- M?ori: string (nullable = true)\n",
      " |-- Pacific: string (nullable = true)\n",
      " |-- Asian: string (nullable = true)\n",
      " |-- MELAA: string (nullable = true)\n",
      " |-- Other: string (nullable = true)\n",
      " |-- International: string (nullable = true)\n",
      "\n"
     ]
    }
   ],
   "source": [
    "spark_df.printSchema()"
   ]
  },
  {
   "cell_type": "markdown",
   "id": "91f65994-fc78-406e-b537-dd8a08ff8109",
   "metadata": {},
   "source": [
    "### Read with inferschema"
   ]
  },
  {
   "cell_type": "code",
   "execution_count": 40,
   "id": "48af7428-c6a6-4a14-a7ac-9504da197713",
   "metadata": {},
   "outputs": [],
   "source": [
    "spark_df = spark.read.csv(path = 'data/input/school-decile.csv', header = True, encoding='cp1252', inferSchema = True)"
   ]
  },
  {
   "cell_type": "code",
   "execution_count": 41,
   "id": "5ccd270c-fcd8-48ea-9c78-d4ad45e61147",
   "metadata": {
    "scrolled": true
   },
   "outputs": [
    {
     "name": "stdout",
     "output_type": "stream",
     "text": [
      "root\n",
      " |-- School Id: integer (nullable = true)\n",
      " |-- Org Name: string (nullable = true)\n",
      " |-- Telephone: string (nullable = true)\n",
      " |-- Fax: string (nullable = true)\n",
      " |-- Email^: string (nullable = true)\n",
      " |-- Principal*: string (nullable = true)\n",
      " |-- URL: string (nullable = true)\n",
      " |-- Physical Address Line1: string (nullable = true)\n",
      " |-- Physical Address Suburb: string (nullable = true)\n",
      " |-- Physical Address City: string (nullable = true)\n",
      " |-- Postal Address Line1: string (nullable = true)\n",
      " |-- Postal Address Suburb: string (nullable = true)\n",
      " |-- Postal Address City: string (nullable = true)\n",
      " |-- Postal Address Postal Code: string (nullable = true)\n",
      " |-- Urban Area: string (nullable = true)\n",
      " |-- Org Type: string (nullable = true)\n",
      " |-- Definition: string (nullable = true)\n",
      " |-- Authority: string (nullable = true)\n",
      " |-- School Donations: string (nullable = true)\n",
      " |-- CoEd Status: string (nullable = true)\n",
      " |-- Territorial Authority: string (nullable = true)\n",
      " |-- Regional Council: string (nullable = true)\n",
      " |-- Local Office Name: string (nullable = true)\n",
      " |-- Education Region: string (nullable = true)\n",
      " |-- General Electorate: string (nullable = true)\n",
      " |-- M?ori Electorate: string (nullable = true)\n",
      " |-- Area Unit: string (nullable = true)\n",
      " |-- Ward: string (nullable = true)\n",
      " |-- Col Id: integer (nullable = true)\n",
      " |-- Col Name: string (nullable = true)\n",
      " |-- Latitude: double (nullable = true)\n",
      " |-- Longitude: double (nullable = true)\n",
      " |-- Isolation Index: string (nullable = true)\n",
      " |-- Decile: integer (nullable = true)\n",
      " |-- Total: integer (nullable = true)\n",
      " |-- European: integer (nullable = true)\n",
      " |-- M?ori: integer (nullable = true)\n",
      " |-- Pacific: integer (nullable = true)\n",
      " |-- Asian: integer (nullable = true)\n",
      " |-- MELAA: integer (nullable = true)\n",
      " |-- Other: integer (nullable = true)\n",
      " |-- International: integer (nullable = true)\n",
      "\n"
     ]
    }
   ],
   "source": [
    "spark_df.printSchema()"
   ]
  },
  {
   "cell_type": "markdown",
   "id": "82adb23c-9931-4d6f-ba68-240ad8d7856e",
   "metadata": {},
   "source": [
    "## Dataframe details"
   ]
  },
  {
   "cell_type": "markdown",
   "id": "aaa3fabb-6b6a-4873-ba51-011907c22b12",
   "metadata": {},
   "source": [
    "### dtype"
   ]
  },
  {
   "cell_type": "code",
   "execution_count": 46,
   "id": "aa7f7b81-77ea-4f3b-8d71-b1c4d93bd800",
   "metadata": {
    "scrolled": true
   },
   "outputs": [
    {
     "data": {
      "text/plain": [
       "[('School Id', 'int'),\n",
       " ('Org Name', 'string'),\n",
       " ('Telephone', 'string'),\n",
       " ('Fax', 'string'),\n",
       " ('Email^', 'string'),\n",
       " ('Principal*', 'string'),\n",
       " ('URL', 'string'),\n",
       " ('Physical Address Line1', 'string'),\n",
       " ('Physical Address Suburb', 'string'),\n",
       " ('Physical Address City', 'string'),\n",
       " ('Postal Address Line1', 'string'),\n",
       " ('Postal Address Suburb', 'string'),\n",
       " ('Postal Address City', 'string'),\n",
       " ('Postal Address Postal Code', 'string'),\n",
       " ('Urban Area', 'string'),\n",
       " ('Org Type', 'string'),\n",
       " ('Definition', 'string'),\n",
       " ('Authority', 'string'),\n",
       " ('School Donations', 'string'),\n",
       " ('CoEd Status', 'string'),\n",
       " ('Territorial Authority', 'string'),\n",
       " ('Regional Council', 'string'),\n",
       " ('Local Office Name', 'string'),\n",
       " ('Education Region', 'string'),\n",
       " ('General Electorate', 'string'),\n",
       " ('M?ori Electorate', 'string'),\n",
       " ('Area Unit', 'string'),\n",
       " ('Ward', 'string'),\n",
       " ('Col Id', 'int'),\n",
       " ('Col Name', 'string'),\n",
       " ('Latitude', 'double'),\n",
       " ('Longitude', 'double'),\n",
       " ('Isolation Index', 'string'),\n",
       " ('Decile', 'int'),\n",
       " ('Total', 'int'),\n",
       " ('European', 'int'),\n",
       " ('M?ori', 'int'),\n",
       " ('Pacific', 'int'),\n",
       " ('Asian', 'int'),\n",
       " ('MELAA', 'int'),\n",
       " ('Other', 'int'),\n",
       " ('International', 'int')]"
      ]
     },
     "execution_count": 46,
     "metadata": {},
     "output_type": "execute_result"
    }
   ],
   "source": [
    "spark_df.dtypes"
   ]
  },
  {
   "cell_type": "markdown",
   "id": "60d37aec-780f-41c6-9693-65ce7c3955bf",
   "metadata": {},
   "source": [
    "### describe"
   ]
  },
  {
   "cell_type": "code",
   "execution_count": 55,
   "id": "646fd6f6-c955-4d9d-bf1e-650f0cfc5d11",
   "metadata": {},
   "outputs": [
    {
     "name": "stdout",
     "output_type": "stream",
     "text": [
      "+-------+------------------+-------------+-----------+--------------------+------------------+\n",
      "|summary|         School Id|    Telephone|        Fax|              Email^|            Decile|\n",
      "+-------+------------------+-------------+-----------+--------------------+------------------+\n",
      "|  count|              2556|         2550|       2180|                2468|              2542|\n",
      "|   mean|2029.8724569640062|         NULL|       NULL|                NULL| 6.643587726199843|\n",
      "| stddev|1320.5517151019496|         NULL|       NULL|                NULL|11.148828442110686|\n",
      "|    min|                 1|020 418 34857|03 201 6042|Beyza.McEvoy@macl...|                 1|\n",
      "|    max|              6980|  09 975 7400|09 974 6030|xtend@nayland.sch...|                99|\n",
      "+-------+------------------+-------------+-----------+--------------------+------------------+\n",
      "\n"
     ]
    }
   ],
   "source": [
    "spark_df.select(['School Id', 'Telephone', 'Fax', 'Email^', 'Decile']).describe().show()"
   ]
  },
  {
   "cell_type": "markdown",
   "id": "2cc3f2df-d906-4b4f-bbd5-a63f34f0cdbe",
   "metadata": {},
   "source": [
    "## Modifying columns"
   ]
  },
  {
   "cell_type": "markdown",
   "id": "8eea95ae-18b3-486e-b6e5-2acbf878392c",
   "metadata": {},
   "source": [
    "### Add new column"
   ]
  },
  {
   "cell_type": "code",
   "execution_count": 76,
   "id": "8d0af3d9-53a4-40c2-88f8-f3ecd259504a",
   "metadata": {},
   "outputs": [],
   "source": [
    "spark_df = spark_df.withColumn(colName = 'temp_col', col = spark_df['Decile'] * 10)"
   ]
  },
  {
   "cell_type": "code",
   "execution_count": 77,
   "id": "1802e1af-b490-4c94-b9a5-064e0d739888",
   "metadata": {},
   "outputs": [
    {
     "name": "stdout",
     "output_type": "stream",
     "text": [
      "+------+--------+\n",
      "|Decile|temp_col|\n",
      "+------+--------+\n",
      "|     2|      20|\n",
      "|     2|      20|\n",
      "|     2|      20|\n",
      "|     1|      10|\n",
      "|     6|      60|\n",
      "+------+--------+\n",
      "only showing top 5 rows\n",
      "\n"
     ]
    }
   ],
   "source": [
    "spark_df.select(['Decile', 'temp_col']).show(5)"
   ]
  },
  {
   "cell_type": "code",
   "execution_count": 78,
   "id": "23c46078-0a6c-4d55-a892-26c1a41a4a43",
   "metadata": {
    "scrolled": true
   },
   "outputs": [
    {
     "data": {
      "text/plain": [
       "['School Id',\n",
       " 'Org Name',\n",
       " 'Telephone',\n",
       " 'Fax',\n",
       " 'Email^',\n",
       " 'Principal*',\n",
       " 'URL',\n",
       " 'Physical Address Line1',\n",
       " 'Physical Address Suburb',\n",
       " 'Physical Address City',\n",
       " 'Postal Address Line1',\n",
       " 'Postal Address Suburb',\n",
       " 'Postal Address City',\n",
       " 'Postal Address Postal Code',\n",
       " 'Urban Area',\n",
       " 'Org Type',\n",
       " 'Definition',\n",
       " 'Authority',\n",
       " 'School Donations',\n",
       " 'CoEd Status',\n",
       " 'Territorial Authority',\n",
       " 'Regional Council',\n",
       " 'Local Office Name',\n",
       " 'Education Region',\n",
       " 'General Electorate',\n",
       " 'M?ori Electorate',\n",
       " 'Area Unit',\n",
       " 'Ward',\n",
       " 'Col Id',\n",
       " 'Col Name',\n",
       " 'Latitude',\n",
       " 'Longitude',\n",
       " 'Isolation Index',\n",
       " 'Decile',\n",
       " 'Total',\n",
       " 'European',\n",
       " 'M?ori',\n",
       " 'Pacific',\n",
       " 'Asian',\n",
       " 'MELAA',\n",
       " 'Other',\n",
       " 'International',\n",
       " 'temp_col']"
      ]
     },
     "execution_count": 78,
     "metadata": {},
     "output_type": "execute_result"
    }
   ],
   "source": [
    "spark_df.columns"
   ]
  },
  {
   "cell_type": "markdown",
   "id": "ffe22e26-14bb-42f1-a0e5-2c2b51acb7bd",
   "metadata": {},
   "source": [
    "### Drop a column"
   ]
  },
  {
   "cell_type": "code",
   "execution_count": 79,
   "id": "adec794a-fb85-401b-9415-c7696dea48f8",
   "metadata": {},
   "outputs": [],
   "source": [
    "spark_df = spark_df.drop('temp_col')"
   ]
  },
  {
   "cell_type": "code",
   "execution_count": 80,
   "id": "320b7ea6-2ce1-4861-b4a2-77749d898b42",
   "metadata": {
    "scrolled": true
   },
   "outputs": [
    {
     "data": {
      "text/plain": [
       "['School Id',\n",
       " 'Org Name',\n",
       " 'Telephone',\n",
       " 'Fax',\n",
       " 'Email^',\n",
       " 'Principal*',\n",
       " 'URL',\n",
       " 'Physical Address Line1',\n",
       " 'Physical Address Suburb',\n",
       " 'Physical Address City',\n",
       " 'Postal Address Line1',\n",
       " 'Postal Address Suburb',\n",
       " 'Postal Address City',\n",
       " 'Postal Address Postal Code',\n",
       " 'Urban Area',\n",
       " 'Org Type',\n",
       " 'Definition',\n",
       " 'Authority',\n",
       " 'School Donations',\n",
       " 'CoEd Status',\n",
       " 'Territorial Authority',\n",
       " 'Regional Council',\n",
       " 'Local Office Name',\n",
       " 'Education Region',\n",
       " 'General Electorate',\n",
       " 'M?ori Electorate',\n",
       " 'Area Unit',\n",
       " 'Ward',\n",
       " 'Col Id',\n",
       " 'Col Name',\n",
       " 'Latitude',\n",
       " 'Longitude',\n",
       " 'Isolation Index',\n",
       " 'Decile',\n",
       " 'Total',\n",
       " 'European',\n",
       " 'M?ori',\n",
       " 'Pacific',\n",
       " 'Asian',\n",
       " 'MELAA',\n",
       " 'Other',\n",
       " 'International']"
      ]
     },
     "execution_count": 80,
     "metadata": {},
     "output_type": "execute_result"
    }
   ],
   "source": [
    "spark_df.columns"
   ]
  },
  {
   "cell_type": "markdown",
   "id": "af2ce2eb-71dc-4394-9def-3287d713a6f5",
   "metadata": {},
   "source": [
    "### Rename columns"
   ]
  },
  {
   "cell_type": "code",
   "execution_count": 88,
   "id": "ee27f291-aebe-4d99-ac66-01c9a79aed88",
   "metadata": {},
   "outputs": [],
   "source": [
    "spark_df = spark_df.withColumnsRenamed({'Other': 'Others', 'International' :  'Internationals'})"
   ]
  },
  {
   "cell_type": "code",
   "execution_count": 89,
   "id": "075bbb25-bb3d-4453-b3f4-9b03f6f35062",
   "metadata": {
    "scrolled": true
   },
   "outputs": [
    {
     "data": {
      "text/plain": [
       "['School Id',\n",
       " 'Org Name',\n",
       " 'Telephone',\n",
       " 'Fax',\n",
       " 'Email^',\n",
       " 'Principal*',\n",
       " 'URL',\n",
       " 'Physical Address Line1',\n",
       " 'Physical Address Suburb',\n",
       " 'Physical Address City',\n",
       " 'Postal Address Line1',\n",
       " 'Postal Address Suburb',\n",
       " 'Postal Address City',\n",
       " 'Postal Address Postal Code',\n",
       " 'Urban Area',\n",
       " 'Org Type',\n",
       " 'Definition',\n",
       " 'Authority',\n",
       " 'School Donations',\n",
       " 'CoEd Status',\n",
       " 'Territorial Authority',\n",
       " 'Regional Council',\n",
       " 'Local Office Name',\n",
       " 'Education Region',\n",
       " 'General Electorate',\n",
       " 'M?ori Electorate',\n",
       " 'Area Unit',\n",
       " 'Ward',\n",
       " 'Col Id',\n",
       " 'Col Name',\n",
       " 'Latitude',\n",
       " 'Longitude',\n",
       " 'Isolation Index',\n",
       " 'Decile',\n",
       " 'Total',\n",
       " 'European',\n",
       " 'M?ori',\n",
       " 'Pacific',\n",
       " 'Asian',\n",
       " 'MELAA',\n",
       " 'Others',\n",
       " 'Internationals']"
      ]
     },
     "execution_count": 89,
     "metadata": {},
     "output_type": "execute_result"
    }
   ],
   "source": [
    "spark_df.columns"
   ]
  },
  {
   "cell_type": "markdown",
   "id": "c0f0ee76-4dcb-42ba-be59-f5a5ecdcbd9d",
   "metadata": {},
   "source": [
    "## Drop na"
   ]
  },
  {
   "cell_type": "code",
   "execution_count": 95,
   "id": "d9796315-e7e8-4e3d-a6ea-e58ab94e3b02",
   "metadata": {},
   "outputs": [
    {
     "data": {
      "text/plain": [
       "2556"
      ]
     },
     "execution_count": 95,
     "metadata": {},
     "output_type": "execute_result"
    }
   ],
   "source": [
    "spark_df.count()"
   ]
  },
  {
   "cell_type": "code",
   "execution_count": 97,
   "id": "76a8dd94-a21a-4a44-8b4b-390ed20c7ba1",
   "metadata": {},
   "outputs": [
    {
     "data": {
      "text/plain": [
       "620"
      ]
     },
     "execution_count": 97,
     "metadata": {},
     "output_type": "execute_result"
    }
   ],
   "source": [
    "spark_df_dropped = spark_df.na.drop()\n",
    "spark_df_dropped.count()"
   ]
  }
 ],
 "metadata": {
  "kernelspec": {
   "display_name": "Python 3 (ipykernel)",
   "language": "python",
   "name": "python3"
  },
  "language_info": {
   "codemirror_mode": {
    "name": "ipython",
    "version": 3
   },
   "file_extension": ".py",
   "mimetype": "text/x-python",
   "name": "python",
   "nbconvert_exporter": "python",
   "pygments_lexer": "ipython3",
   "version": "3.12.2"
  }
 },
 "nbformat": 4,
 "nbformat_minor": 5
}
