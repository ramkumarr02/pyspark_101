{
 "cells": [
  {
   "cell_type": "markdown",
   "id": "ecaded0b-3ba9-4986-82ed-d83ba4dff7eb",
   "metadata": {},
   "source": [
    "# PySpark 101 "
   ]
  },
  {
   "cell_type": "code",
   "execution_count": null,
   "id": "d7878abe-c13b-440d-aec9-214ddaa6cdce",
   "metadata": {},
   "outputs": [],
   "source": [
    "import numpy as np\n",
    "import pandas as pd\n",
    "\n",
    "import warnings\n",
    "warnings.filterwarnings(\"ignore\")"
   ]
  },
  {
   "cell_type": "markdown",
   "id": "ca739478-746f-40ed-8a91-db899ca7e83d",
   "metadata": {},
   "source": [
    "## Spark Packages"
   ]
  },
  {
   "cell_type": "code",
   "execution_count": null,
   "id": "45622fcb-c2ac-4619-b313-97c00ca1fa73",
   "metadata": {},
   "outputs": [
    {
     "name": "stderr",
     "output_type": "stream",
     "text": [
      "C:\\Users\\Ram\\AppData\\Local\\Temp\\ipykernel_10188\\3381901218.py:2: DeprecationWarning: \n",
      "Pyarrow will become a required dependency of pandas in the next major release of pandas (pandas 3.0),\n",
      "(to allow more performant data types, such as the Arrow string type, and better interoperability with other libraries)\n",
      "but was not found to be installed on your system.\n",
      "If this would cause problems for you,\n",
      "please provide us feedback at https://github.com/pandas-dev/pandas/issues/54466\n",
      "        \n",
      "  import pandas as pd\n"
     ]
    }
   ],
   "source": [
    "from pyspark.sql import SparkSession"
   ]
  },
  {
   "cell_type": "code",
   "execution_count": 2,
   "id": "4e3d80e2-0f26-4461-a7db-e4eb13415e13",
   "metadata": {},
   "outputs": [
    {
     "data": {
      "text/html": [
       "<div>\n",
       "<style scoped>\n",
       "    .dataframe tbody tr th:only-of-type {\n",
       "        vertical-align: middle;\n",
       "    }\n",
       "\n",
       "    .dataframe tbody tr th {\n",
       "        vertical-align: top;\n",
       "    }\n",
       "\n",
       "    .dataframe thead th {\n",
       "        text-align: right;\n",
       "    }\n",
       "</style>\n",
       "<table border=\"1\" class=\"dataframe\">\n",
       "  <thead>\n",
       "    <tr style=\"text-align: right;\">\n",
       "      <th></th>\n",
       "      <th>School Id</th>\n",
       "      <th>Org Name</th>\n",
       "      <th>Telephone</th>\n",
       "      <th>Fax</th>\n",
       "      <th>Email^</th>\n",
       "      <th>Principal*</th>\n",
       "      <th>URL</th>\n",
       "      <th>Physical Address Line1</th>\n",
       "      <th>Physical Address Suburb</th>\n",
       "      <th>Physical Address City</th>\n",
       "      <th>...</th>\n",
       "      <th>Isolation Index</th>\n",
       "      <th>Decile</th>\n",
       "      <th>Total</th>\n",
       "      <th>European</th>\n",
       "      <th>M?ori</th>\n",
       "      <th>Pacific</th>\n",
       "      <th>Asian</th>\n",
       "      <th>MELAA</th>\n",
       "      <th>Other</th>\n",
       "      <th>International</th>\n",
       "    </tr>\n",
       "  </thead>\n",
       "  <tbody>\n",
       "    <tr>\n",
       "      <th>0</th>\n",
       "      <td>1</td>\n",
       "      <td>Te Kura o Te Kao</td>\n",
       "      <td>09 409 7813</td>\n",
       "      <td>NaN</td>\n",
       "      <td>office@tekao.school.nz</td>\n",
       "      <td>Ng?waiata Evans (Acting)</td>\n",
       "      <td>http://www.tekuraotekao.school.nz</td>\n",
       "      <td>6603 Far North Road</td>\n",
       "      <td>NaN</td>\n",
       "      <td>Te Kao</td>\n",
       "      <td>...</td>\n",
       "      <td>4.18</td>\n",
       "      <td>2.0</td>\n",
       "      <td>36</td>\n",
       "      <td>0</td>\n",
       "      <td>36</td>\n",
       "      <td>0</td>\n",
       "      <td>0</td>\n",
       "      <td>0</td>\n",
       "      <td>0</td>\n",
       "      <td>0</td>\n",
       "    </tr>\n",
       "    <tr>\n",
       "      <th>1</th>\n",
       "      <td>2</td>\n",
       "      <td>Taipa Area School</td>\n",
       "      <td>09 406 0159</td>\n",
       "      <td>09 406 1096</td>\n",
       "      <td>office@taipa.school.nz</td>\n",
       "      <td>Doreen Bailey</td>\n",
       "      <td>http://www.taipa.school.nz</td>\n",
       "      <td>578 State Highway 10</td>\n",
       "      <td>NaN</td>\n",
       "      <td>Taipa</td>\n",
       "      <td>...</td>\n",
       "      <td>2.88</td>\n",
       "      <td>2.0</td>\n",
       "      <td>300</td>\n",
       "      <td>34</td>\n",
       "      <td>246</td>\n",
       "      <td>11</td>\n",
       "      <td>8</td>\n",
       "      <td>0</td>\n",
       "      <td>1</td>\n",
       "      <td>0</td>\n",
       "    </tr>\n",
       "  </tbody>\n",
       "</table>\n",
       "<p>2 rows × 42 columns</p>\n",
       "</div>"
      ],
      "text/plain": [
       "   School Id           Org Name    Telephone          Fax  \\\n",
       "0          1   Te Kura o Te Kao  09 409 7813          NaN   \n",
       "1          2  Taipa Area School  09 406 0159  09 406 1096   \n",
       "\n",
       "                   Email^                Principal*  \\\n",
       "0  office@tekao.school.nz  Ng?waiata Evans (Acting)   \n",
       "1  office@taipa.school.nz             Doreen Bailey   \n",
       "\n",
       "                                 URL Physical Address Line1  \\\n",
       "0  http://www.tekuraotekao.school.nz    6603 Far North Road   \n",
       "1         http://www.taipa.school.nz   578 State Highway 10   \n",
       "\n",
       "  Physical Address Suburb Physical Address City  ... Isolation Index Decile  \\\n",
       "0                     NaN                Te Kao  ...            4.18    2.0   \n",
       "1                     NaN                 Taipa  ...            2.88    2.0   \n",
       "\n",
       "  Total European M?ori Pacific Asian MELAA Other International  \n",
       "0    36        0    36       0     0     0     0             0  \n",
       "1   300       34   246      11     8     0     1             0  \n",
       "\n",
       "[2 rows x 42 columns]"
      ]
     },
     "execution_count": 2,
     "metadata": {},
     "output_type": "execute_result"
    }
   ],
   "source": [
    "df = pd.read_csv('data/input/school-decile.csv', encoding='cp1252')\n",
    "df.head(2)"
   ]
  },
  {
   "cell_type": "markdown",
   "id": "454fa6e1-24a2-4392-87ac-59f270b1def3",
   "metadata": {},
   "source": [
    "## Create Spark Session : which establishes a connection to the spark core"
   ]
  },
  {
   "cell_type": "code",
   "execution_count": 3,
   "id": "ecad10be-8931-4353-a57d-b9ed5091cd0b",
   "metadata": {},
   "outputs": [],
   "source": [
    "spark = SparkSession.builder.getOrCreate()"
   ]
  },
  {
   "cell_type": "markdown",
   "id": "0183e791-8406-4fcd-8958-509350492b68",
   "metadata": {},
   "source": [
    "## Read input csv file"
   ]
  },
  {
   "cell_type": "code",
   "execution_count": 4,
   "id": "3762fa69-8fc9-413d-85b4-fc789bdfccf4",
   "metadata": {},
   "outputs": [],
   "source": [
    "spark_df = spark.read.csv(path = 'data/input/school-decile.csv', header = True, encoding='cp1252')"
   ]
  },
  {
   "cell_type": "code",
   "execution_count": 5,
   "id": "2bec37c8-f484-4b32-a9fe-90be90d85f3e",
   "metadata": {},
   "outputs": [
    {
     "name": "stdout",
     "output_type": "stream",
     "text": [
      "+---------+-----------------+-----------+-----------+--------------------+--------------------+--------------------+----------------------+-----------------------+---------------------+--------------------+---------------------+-------------------+--------------------------+----------------+---------+--------------------+---------+--------------------+--------------+---------------------+----------------+-----------------+----------------+------------------+----------------+------------------+------------+------+--------------------+----------+----------+---------------+------+-----+--------+-----+-------+-----+-----+-----+-------------+\n",
      "|School Id|         Org Name|  Telephone|        Fax|              Email^|          Principal*|                 URL|Physical Address Line1|Physical Address Suburb|Physical Address City|Postal Address Line1|Postal Address Suburb|Postal Address City|Postal Address Postal Code|      Urban Area| Org Type|          Definition|Authority|    School Donations|   CoEd Status|Territorial Authority|Regional Council|Local Office Name|Education Region|General Electorate|M?ori Electorate|         Area Unit|        Ward|Col Id|            Col Name|  Latitude| Longitude|Isolation Index|Decile|Total|European|M?ori|Pacific|Asian|MELAA|Other|International|\n",
      "+---------+-----------------+-----------+-----------+--------------------+--------------------+--------------------+----------------------+-----------------------+---------------------+--------------------+---------------------+-------------------+--------------------------+----------------+---------+--------------------+---------+--------------------+--------------+---------------------+----------------+-----------------+----------------+------------------+----------------+------------------+------------+------+--------------------+----------+----------+---------------+------+-----+--------+-----+-------+-----+-----+-----+-------------+\n",
      "|        1| Te Kura o Te Kao|09 409 7813|       NULL|office@tekao.scho...|Ng?waiata Evans (...|http://www.tekura...|   6603 Far North Road|                   NULL|               Te Kao|6603 Far North Ro...|                 NULL|            Kaitaia|                       484|      Rural Area|Composite|Designated Charac...|    State|Donations should ...|Co-Educational|   Far North District|Northland Region|        Whangarei|     Tai Tokerau|         Northland|  Te Tai Tokerau|        North Cape|Te Hiku Ward|  NULL|                NULL|-34.654704|172.965949|           4.18|     2|   36|       0|   36|      0|    0|    0|    0|            0|\n",
      "|        2|Taipa Area School|09 406 0159|09 406 1096|office@taipa.scho...|       Doreen Bailey|http://www.taipa....|  578 State Highway 10|                   NULL|                Taipa|578 State Highway 10|                 NULL|              Taipa|                       420|Minor Urban Area|Composite|      Not Applicable|    State|Donations should ...|Co-Educational|   Far North District|Northland Region|        Whangarei|     Tai Tokerau|         Northland|  Te Tai Tokerau|Taipa Bay-Mangonui|Te Hiku Ward| 99051|Te K?hui Tai Kura...|-34.994702|173.464303|           2.88|     2|  300|      34|  246|     11|    8|    0|    1|            0|\n",
      "+---------+-----------------+-----------+-----------+--------------------+--------------------+--------------------+----------------------+-----------------------+---------------------+--------------------+---------------------+-------------------+--------------------------+----------------+---------+--------------------+---------+--------------------+--------------+---------------------+----------------+-----------------+----------------+------------------+----------------+------------------+------------+------+--------------------+----------+----------+---------------+------+-----+--------+-----+-------+-----+-----+-----+-------------+\n",
      "only showing top 2 rows\n",
      "\n"
     ]
    }
   ],
   "source": [
    "spark_df.show(2)"
   ]
  },
  {
   "cell_type": "code",
   "execution_count": 14,
   "id": "300f40d4-849e-4de3-b691-ba08efe5d017",
   "metadata": {},
   "outputs": [
    {
     "data": {
      "text/plain": [
       "pyspark.sql.dataframe.DataFrame"
      ]
     },
     "execution_count": 14,
     "metadata": {},
     "output_type": "execute_result"
    }
   ],
   "source": [
    "type(spark_df)"
   ]
  },
  {
   "cell_type": "markdown",
   "id": "eb50ec76-ec08-4244-a8e1-d2e009913e88",
   "metadata": {},
   "source": [
    "## Create a view of the dataframe : Can sql query from the view"
   ]
  },
  {
   "cell_type": "code",
   "execution_count": 15,
   "id": "4701af79-5cc7-481f-8873-ba1500891596",
   "metadata": {},
   "outputs": [],
   "source": [
    "spark_df.createOrReplaceTempView('spark_df_view')"
   ]
  },
  {
   "cell_type": "code",
   "execution_count": 21,
   "id": "86c3c6df-b844-40a1-87bd-1beb1e1352fb",
   "metadata": {},
   "outputs": [],
   "source": [
    "select_query = 'select * from spark_df_view limit 2'"
   ]
  },
  {
   "cell_type": "code",
   "execution_count": 22,
   "id": "06319b98-fb98-472e-99a8-eb0e8e609bef",
   "metadata": {},
   "outputs": [
    {
     "name": "stdout",
     "output_type": "stream",
     "text": [
      "+---------+-----------------+-----------+-----------+--------------------+--------------------+--------------------+----------------------+-----------------------+---------------------+--------------------+---------------------+-------------------+--------------------------+----------------+---------+--------------------+---------+--------------------+--------------+---------------------+----------------+-----------------+----------------+------------------+----------------+------------------+------------+------+--------------------+----------+----------+---------------+------+-----+--------+-----+-------+-----+-----+-----+-------------+\n",
      "|School Id|         Org Name|  Telephone|        Fax|              Email^|          Principal*|                 URL|Physical Address Line1|Physical Address Suburb|Physical Address City|Postal Address Line1|Postal Address Suburb|Postal Address City|Postal Address Postal Code|      Urban Area| Org Type|          Definition|Authority|    School Donations|   CoEd Status|Territorial Authority|Regional Council|Local Office Name|Education Region|General Electorate|M?ori Electorate|         Area Unit|        Ward|Col Id|            Col Name|  Latitude| Longitude|Isolation Index|Decile|Total|European|M?ori|Pacific|Asian|MELAA|Other|International|\n",
      "+---------+-----------------+-----------+-----------+--------------------+--------------------+--------------------+----------------------+-----------------------+---------------------+--------------------+---------------------+-------------------+--------------------------+----------------+---------+--------------------+---------+--------------------+--------------+---------------------+----------------+-----------------+----------------+------------------+----------------+------------------+------------+------+--------------------+----------+----------+---------------+------+-----+--------+-----+-------+-----+-----+-----+-------------+\n",
      "|        1| Te Kura o Te Kao|09 409 7813|       NULL|office@tekao.scho...|Ng?waiata Evans (...|http://www.tekura...|   6603 Far North Road|                   NULL|               Te Kao|6603 Far North Ro...|                 NULL|            Kaitaia|                       484|      Rural Area|Composite|Designated Charac...|    State|Donations should ...|Co-Educational|   Far North District|Northland Region|        Whangarei|     Tai Tokerau|         Northland|  Te Tai Tokerau|        North Cape|Te Hiku Ward|  NULL|                NULL|-34.654704|172.965949|           4.18|     2|   36|       0|   36|      0|    0|    0|    0|            0|\n",
      "|        2|Taipa Area School|09 406 0159|09 406 1096|office@taipa.scho...|       Doreen Bailey|http://www.taipa....|  578 State Highway 10|                   NULL|                Taipa|578 State Highway 10|                 NULL|              Taipa|                       420|Minor Urban Area|Composite|      Not Applicable|    State|Donations should ...|Co-Educational|   Far North District|Northland Region|        Whangarei|     Tai Tokerau|         Northland|  Te Tai Tokerau|Taipa Bay-Mangonui|Te Hiku Ward| 99051|Te K?hui Tai Kura...|-34.994702|173.464303|           2.88|     2|  300|      34|  246|     11|    8|    0|    1|            0|\n",
      "+---------+-----------------+-----------+-----------+--------------------+--------------------+--------------------+----------------------+-----------------------+---------------------+--------------------+---------------------+-------------------+--------------------------+----------------+---------+--------------------+---------+--------------------+--------------+---------------------+----------------+-----------------+----------------+------------------+----------------+------------------+------------+------+--------------------+----------+----------+---------------+------+-----+--------+-----+-------+-----+-----+-----+-------------+\n",
      "\n"
     ]
    }
   ],
   "source": [
    "query_result = spark.sql(select_query)\n",
    "query_result.show()"
   ]
  },
  {
   "cell_type": "markdown",
   "id": "16ec61ed-468e-4439-8267-e3e593a5c650",
   "metadata": {},
   "source": [
    "## Row Filter dataframe"
   ]
  },
  {
   "cell_type": "code",
   "execution_count": 28,
   "id": "264a5c8d-1dbf-45ba-869f-a20e4a4d1ebd",
   "metadata": {},
   "outputs": [
    {
     "name": "stdout",
     "output_type": "stream",
     "text": [
      "+---------+--------------------+-----------+-----------+--------------------+-------------------+--------------------+----------------------+-----------------------+---------------------+--------------------+---------------------+-------------------+--------------------------+----------------+--------------------+--------------------+--------------------+--------------------+--------------------+---------------------+----------------+-----------------+----------------+------------------+----------------+--------------------+--------------------+------+--------------------+----------+----------+---------------+------+-----+--------+-----+-------+-----+-----+-----+-------------+\n",
      "|School Id|            Org Name|  Telephone|        Fax|              Email^|         Principal*|                 URL|Physical Address Line1|Physical Address Suburb|Physical Address City|Postal Address Line1|Postal Address Suburb|Postal Address City|Postal Address Postal Code|      Urban Area|            Org Type|          Definition|           Authority|    School Donations|         CoEd Status|Territorial Authority|Regional Council|Local Office Name|Education Region|General Electorate|M?ori Electorate|           Area Unit|                Ward|Col Id|            Col Name|  Latitude| Longitude|Isolation Index|Decile|Total|European|M?ori|Pacific|Asian|MELAA|Other|International|\n",
      "+---------+--------------------+-----------+-----------+--------------------+-------------------+--------------------+----------------------+-----------------------+---------------------+--------------------+---------------------+-------------------+--------------------------+----------------+--------------------+--------------------+--------------------+--------------------+--------------------+---------------------+----------------+-----------------+----------------+------------------+----------------+--------------------+--------------------+------+--------------------+----------+----------+---------------+------+-----+--------+-----+-------+-----+-----+-----+-------------+\n",
      "|        5|Kerikeri High School|09 407 8916|09 407 9323|enquiries@keriker...|   Elizabeth Forgie|http://www.kerike...|     48 Hone Heke Road|                   NULL|             Kerikeri|          P O Box 92|                 NULL|           Kerikeri|                       245|Minor Urban Area|Secondary (Year 7...|      Not Applicable|               State|Donations should ...|      Co-Educational|   Far North District|Northland Region|        Whangarei|     Tai Tokerau|         Northland|  Te Tai Tokerau|            Kerikeri|Bay of Islands-Wh...|  NULL|                NULL|-35.228346| 173.95539|           2.41|     6| 1554|     922|  468|     27|   44|   24|   10|           59|\n",
      "|       12|Tauraroa Area School|09 432 2643|09 432 2436|general@tauraroa....|        Grant Burns|http://www.taurar...|     398 Tauraroa Road|                   NULL|        Maungakaramea|          P O Box 36|                 NULL|      Maungakaramea|                       146|      Rural Area|           Composite|      Not Applicable|               State|Donations should ...|      Co-Educational|   Whangarei District|Northland Region|        Whangarei|     Tai Tokerau|         Whangarei|  Te Tai Tokerau|  Wharekohe-Oakleigh|      Bream Bay Ward| 99183|Ng? Kura mo te ak...|-35.873061| 174.21817|           0.98|     6|  502|     349|  126|      1|    8|    3|    7|            8|\n",
      "|       15|Whang?rei Boys' H...|09 430 4170|09 430 4172|enquiries@wbhs.sc...|Karen Gilbert-Smith|http://www.wbhs.s...|          10 Kent Road|                   NULL|            Whangarei|        P O Box 5034|                 NULL|          Whangarei|                       140| Main Urban Area|Secondary (Year 9...|School with Board...|               State|Donations should ...|Single Sex (Boys ...|   Whangarei District|Northland Region|        Whangarei|     Tai Tokerau|         Whangarei|  Te Tai Tokerau|              Regent|          Okara Ward| 99181|Ng? Kura mo te ak...|-35.716109| 174.31838|           0.63|     5| 1193|     596|  472|     40|   53|   18|    8|            6|\n",
      "|       16|Whangarei Girls' ...|09 430 4460|09 430 4410|office@wghs.schoo...|        Anne Cooper|http://www.wghs.s...|       1 Lupton Avenue|                 Regent|            Whangarei|        P O Box 5056|                 NULL|          Whangarei|                       140| Main Urban Area|Secondary (Year 9...|School with Board...|               State|Donations should ...|Single Sex (Girls...|   Whangarei District|Northland Region|        Whangarei|     Tai Tokerau|         Whangarei|  Te Tai Tokerau|              Regent|          Okara Ward| 99180|Ng? Kura mo te ak...|-35.713281|174.319551|           0.62|     5| 1449|     745|  566|     47|   54|   16|   10|           11|\n",
      "|       17|Pompallier Cathol...|09 438 3950|09 430 0302|admin@pompallier....|    Richard Stanton|http://www.pompal...|      State Highway 14|                  Maunu|            Whangarei|       P O Box 10042|               Te Mai|          Whangarei|                       143| Main Urban Area|Secondary (Year 7...|      Not Applicable|  State : Integrated|Donations may be ...|      Co-Educational|   Whangarei District|Northland Region|        Whangarei|     Tai Tokerau|         Whangarei|  Te Tai Tokerau|             Te Hihi|Mangakahia-Maunga...| 99180|Ng? Kura mo te ak...|-35.744856|174.275714|           0.69|     7|  572|     340|  109|     18|   68|   14|    9|           14|\n",
      "|       20|   Bream Bay College|09 432 8226|09 432 8228|ksandford@breamba...|     Wayne Buckland|http://www.breamb...|    2 Peter Snell Road|                   NULL|              Ruakaka|         P O Box 111|                 NULL|            Ruakaka|                       151|      Rural Area|Secondary (Year 7...|      Not Applicable|               State|Donations should ...|      Co-Educational|   Whangarei District|Northland Region|        Whangarei|     Tai Tokerau|         Whangarei|  Te Tai Tokerau|Marsden Point-Rua...|      Bream Bay Ward| 99184| Bream Bay K?hui Ako|-35.876071|174.455785|           1.04|     5|  568|     302|  213|     19|   22|   12|    0|            0|\n",
      "|       24|   Mahurangi College|09 425 8039|09 425 7275|admin@mahurangi.s...|      David Macleod|http://www.mahura...|        Woodcocks Road|                   NULL|            Warkworth|          P O Box 64|                 NULL|          Warkworth|                       941|Minor Urban Area|Secondary (Year 7...|      Not Applicable|               State|Donations may be ...|      Co-Educational|    Auckland - Rodney| Auckland Region|         Auckland|        Auckland|            Rodney|  Te Tai Tokerau|           Warkworth|         Rodney Ward| 99122|Mahurangi Communi...| -36.40651|174.655545|           1.01|     7| 1484|    1038|  228|    102|   51|   26|    3|           36|\n",
      "|       25|       Orewa College|09 427 3833|       NULL|admin@orewacolleg...|      Kate Shevland|https://www.orewa...|     76 Riverside Road|                   NULL|                Orewa|         P O Box 345|                 NULL|              Orewa|                       946| Main Urban Area|Secondary (Year 7...|      Not Applicable|               State|Donations may be ...|      Co-Educational| Auckland - Hibisc...| Auckland Region|         Auckland|        Auckland|            Rodney|  Te Tai Tokerau|               Orewa|         Albany Ward| 99069|Orewa Community o...|-36.591691|174.689748|           0.44|     9| 1915|    1345|  280|     69|  140|   33|   16|           32|\n",
      "|       26|     Kaipara College|09 420 8640|09 420 7485|bbravery@kaipara....|  Stephen McCracken|http://www.kaipar...|       Rautawhiri Road|                   NULL|          Helensville|     Rautawhiri Road|                 NULL|        Helensville|                       800|Minor Urban Area|Secondary (Year 9...|      Not Applicable|               State|Donations should ...|      Co-Educational|    Auckland - Rodney| Auckland Region|         Auckland|        Auckland|       Helensville|  Te Tai Tokerau|         Helensville|         Rodney Ward| 99097|Te K?hui Ako o Ka...|-36.680149|174.459139|           0.71|     7|  864|     568|  224|     25|   30|   11|    2|            4|\n",
      "|       27|    Long Bay College|09 477 9009|09 477 9105|office@lbc.school.nz|          CJ Healey|http://www.longba...|         Ashley Avenue|                 Torbay|             Auckland|       P O Box 89007|               Torbay|           Auckland|                       742| Main Urban Area|Secondary (Year 9...|      Not Applicable|               State|Donations may be ...|      Co-Educational| Auckland - Hibisc...| Auckland Region|         Auckland|        Auckland|   East Coast Bays|  Te Tai Tokerau|            Long Bay|         Albany Ward| 99121|Oneroa Community ...|-36.691388|174.738758|           0.15|    10| 1508|    1002|  102|     25|  149|   77|   21|          132|\n",
      "|       28|   Rangitoto College|09 477 0150|09 477 0077|info@rangitoto.sc...|       Patrick Gale|http://www.rangit...|   564 East Coast Road|             Browns Bay|             Auckland|       P O Box 93601|           Browns Bay|           Auckland|                       753| Main Urban Area|Secondary (Year 9...|      Not Applicable|               State|Donations may be ...|      Co-Educational| Auckland - Upper ...| Auckland Region|         Auckland|        Auckland|   East Coast Bays|  Te Tai Tokerau|        Windsor Park|         Albany Ward| 99000|Mid Bays Communit...| -36.73719|174.736685|           0.11|    10| 3266|    1622|  174|     61|  987|  146|   22|          254|\n",
      "|       29|      Kristin School|09 415 9566|       NULL|kristin@kristin.s...|        Mark Wilson|http://www.kristi...|    360 Albany Highway|                 Albany|             Auckland|      P O Box 300087|               Albany|           Auckland|                       752| Main Urban Area|           Composite|      Not Applicable|Private : Fully R...|      Not applicable|      Co-Educational| Auckland - Upper ...| Auckland Region|         Auckland|        Auckland|   East Coast Bays|  Te Tai Tokerau|  North Harbour West|         Albany Ward|  NULL|                NULL|-36.742982|174.692244| Not applicable|    10| 1650|     752|   42|     16|  748|   27|    5|           60|\n",
      "|       30|   Glenfield College|09 444 9066|09 444 7198|      admin@gc.ac.nz|      Paul McKinley|https://www.gc.ac...|     60 Kaipatiki Road|              Glenfield|             Auckland|       P O Box 40176|            Glenfield|   North Shore City|                       747| Main Urban Area|Secondary (Year 9...|      Not Applicable|               State|Donations should ...|      Co-Educational| Auckland - Kaipatiki| Auckland Region|         Auckland|        Auckland|         Northcote|  Te Tai Tokerau|           Kaipatiki|    North Shore Ward| 99120|Kaip?tiki Communi...|-36.779794|174.714954|           0.18|     6|  463|     163|   77|     34|  132|   32|    8|           17|\n",
      "|       31|  Birkenhead College|09 483 9039|09 483 4094|office@birkenhead...|       Craig Waller|http://www.birken...|     140 Birkdale Road|             Birkenhead|             Auckland|   Private Bag 34911|           Birkenhead|   North Shore City|                       746| Main Urban Area|Secondary (Year 9...|      Not Applicable|               State|Donations may be ...|      Co-Educational| Auckland - Kaipatiki| Auckland Region|         Auckland|        Auckland|         Northcote|  Te Tai Tokerau|      Birkdale South|    North Shore Ward| 99214|Te Ara Whet? K?hu...|-36.799167|174.701152|           0.26|     6|  534|     218|  100|     80|   86|   26|    4|           20|\n",
      "|       32|   Northcote College|09 481 0141|09 481 0142|office@northcote....|       Vicki Barrie|http://www.northc...|       Kauri Glen Road|              Northcote|             Auckland|     Kauri Glen Road|            Northcote|   North Shore City|                       627| Main Urban Area|Secondary (Year 9...|      Not Applicable|               State|Donations may be ...|      Co-Educational| Auckland - Kaipatiki| Auckland Region|         Auckland|        Auckland|         Northcote|  Te Tai Tokerau|     Northcote South|    North Shore Ward| 99067|Northcote Communi...|-36.808874|174.733678|           0.18|     7| 1132|     594|  183|     84|  160|   43|    3|           65|\n",
      "|       35|      Carmel College|09 486 1132|09 486 2286|admin@carmel.scho...|    Christine Allen|http://www.carmel...|  108 Shakespeare Road|                Milford|             Auckland|       P O Box 31142|              Milford|   North Shore City|                       741| Main Urban Area|Secondary (Year 7...|      Not Applicable|  State : Integrated|Donations may be ...|Single Sex (Girls...| Auckland - Devonp...| Auckland Region|         Auckland|        Auckland|       North Shore|  Te Tai Tokerau|            Westlake|    North Shore Ward| 99126|North Shore Catho...|-36.779169|174.756742|            0.2|     9|  986|     556|   48|     60|  232|   37|   10|           43|\n",
      "|       36|Takapuna Grammar ...|09 489 4167|09 486 7118|office@takapuna.s...|         Mary Nixon|http://www.takapu...|         210 Lake Road|               Takapuna|             Auckland|      P O Box 331096|             Takapuna|           Auckland|                       740| Main Urban Area|Secondary (Year 9...|      Not Applicable|               State|Donations may be ...|      Co-Educational| Auckland - Devonp...| Auckland Region|         Auckland|        Auckland|       North Shore|  Te Tai Tokerau|           Seacliffe|    North Shore Ward| 99048|Devonport-Takapun...|-36.800609|174.788478|           0.24|    10| 1791|    1145|  106|     43|  269|   46|   31|          151|\n",
      "|       37|Westlake Boys Hig...|09 410 8667|09 410 7717|office@westlake.s...|     David Ferguson|http://www.westla...|     Forrest Hill Road|               Takapuna|             Auckland|30 Forrest Hill Road|         Forrest Hill|   North Shore City|                       620| Main Urban Area|Secondary (Year 9...|      Not Applicable|               State|Donations may be ...|Single Sex (Boys ...| Auckland - Devonp...| Auckland Region|         Auckland|        Auckland|       North Shore|  Te Tai Tokerau|            Westlake|    North Shore Ward| 99188|Pupuke (Westlake)...|-36.777359|174.749492|           0.18|     9| 2366|    1077|  199|     98|  743|   78|   16|          155|\n",
      "|       38|Westlake Girls' H...|09 489 4169|09 486 1860|office@westlakegi...|       Jane Stanley|http://www.westla...|         2 Wairau Road|               Takapuna|             Auckland|       2 Wairau Road|             Takapuna|   North Shore City|                       627| Main Urban Area|Secondary (Year 9...|      Not Applicable|               State|Donations may be ...|Single Sex (Girls...| Auckland - Devonp...| Auckland Region|         Auckland|        Auckland|       North Shore|  Te Tai Tokerau|            Westlake|    North Shore Ward| 99188|Pupuke (Westlake)...|-36.782451| 174.75231|           0.19|     9| 2280|    1000|  183|     89|  704|   84|   35|          185|\n",
      "|       39|     Rosmini College|09 489 5417|09 489 5323|hmeurant@rosmini....|       Nixon Cooper|http://www.rosmin...|    36 Dominion Street|               Takapuna|             Auckland|  36 Dominion Street|             Takapuna|   North Shore City|                       622| Main Urban Area|Secondary (Year 7...|      Not Applicable|  State : Integrated|Donations may be ...|Single Sex (Boys ...| Auckland - Devonp...| Auckland Region|         Auckland|        Auckland|       North Shore|  Te Tai Tokerau|            Westlake|    North Shore Ward| 99126|North Shore Catho...|-36.792435|174.760146|           0.21|     9| 1105|     642|   97|     68|  219|   50|    2|           27|\n",
      "+---------+--------------------+-----------+-----------+--------------------+-------------------+--------------------+----------------------+-----------------------+---------------------+--------------------+---------------------+-------------------+--------------------------+----------------+--------------------+--------------------+--------------------+--------------------+--------------------+---------------------+----------------+-----------------+----------------+------------------+----------------+--------------------+--------------------+------+--------------------+----------+----------+---------------+------+-----+--------+-----+-------+-----+-----+-----+-------------+\n",
      "only showing top 20 rows\n",
      "\n"
     ]
    }
   ],
   "source": [
    "spark_df.filter(spark_df.Decile >  4).show()"
   ]
  },
  {
   "cell_type": "markdown",
   "id": "db4ad6b7-700a-495e-9582-f93500233724",
   "metadata": {},
   "source": [
    "## Column Filter Dataframe "
   ]
  },
  {
   "cell_type": "code",
   "execution_count": 30,
   "id": "06461d59-93c8-4922-87a4-7e5b3a746064",
   "metadata": {},
   "outputs": [
    {
     "name": "stdout",
     "output_type": "stream",
     "text": [
      "+-----------+\n",
      "|  Telephone|\n",
      "+-----------+\n",
      "|09 409 7813|\n",
      "|09 406 0159|\n",
      "|09 408 0190|\n",
      "|09 405 0199|\n",
      "|09 407 8916|\n",
      "|09 409 5878|\n",
      "|09 401 9030|\n",
      "|09 404 1055|\n",
      "|09 401 3200|\n",
      "|09 409 5701|\n",
      "|09 405 8500|\n",
      "|09 432 2643|\n",
      "|09 435 1688|\n",
      "|09 437 3299|\n",
      "|09 430 4170|\n",
      "|09 430 4460|\n",
      "|09 438 3950|\n",
      "|09 433 1702|\n",
      "|09 439 7229|\n",
      "|09 432 8226|\n",
      "+-----------+\n",
      "only showing top 20 rows\n",
      "\n"
     ]
    }
   ],
   "source": [
    "spark_df.select(['Telephone']).show()"
   ]
  },
  {
   "cell_type": "markdown",
   "id": "64655183-7c6c-478e-be71-b3fa41c7e61c",
   "metadata": {},
   "source": [
    "## Mutliple parameterised filter"
   ]
  },
  {
   "cell_type": "code",
   "execution_count": 38,
   "id": "24544769-9cdf-4c1a-ac7f-feb84570616e",
   "metadata": {},
   "outputs": [],
   "source": [
    "isolation_filter = spark_df['Isolation Index'] > 2\n",
    "decile_filter = spark_df['Decile'] > 1"
   ]
  },
  {
   "cell_type": "code",
   "execution_count": 43,
   "id": "a91800be-e85c-43e3-8515-87f3b1c91e8c",
   "metadata": {},
   "outputs": [
    {
     "data": {
      "text/plain": [
       "2556"
      ]
     },
     "execution_count": 43,
     "metadata": {},
     "output_type": "execute_result"
    }
   ],
   "source": [
    "spark_df.count()"
   ]
  },
  {
   "cell_type": "code",
   "execution_count": 42,
   "id": "16714d5d-ba23-4152-a9d7-f728edb3a1c5",
   "metadata": {},
   "outputs": [
    {
     "data": {
      "text/plain": [
       "98"
      ]
     },
     "execution_count": 42,
     "metadata": {},
     "output_type": "execute_result"
    }
   ],
   "source": [
    "spark_df.filter(isolation_filter).filter(decile_filter).count()"
   ]
  }
 ],
 "metadata": {
  "kernelspec": {
   "display_name": "Python 3 (ipykernel)",
   "language": "python",
   "name": "python3"
  },
  "language_info": {
   "codemirror_mode": {
    "name": "ipython",
    "version": 3
   },
   "file_extension": ".py",
   "mimetype": "text/x-python",
   "name": "python",
   "nbconvert_exporter": "python",
   "pygments_lexer": "ipython3",
   "version": "3.12.2"
  }
 },
 "nbformat": 4,
 "nbformat_minor": 5
}
